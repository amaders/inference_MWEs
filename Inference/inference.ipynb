{
 "cells": [
  {
   "cell_type": "markdown",
   "id": "ed840584",
   "metadata": {},
   "source": [
    "# **Inference**"
   ]
  },
  {
   "cell_type": "markdown",
   "id": "6a0a1914",
   "metadata": {},
   "source": [
    "If we were to progress through the topics of this course chronologically, this section would be towards the very end; inference is the function that connects the engineering and scientific heavy lifting of training to deployment, and it functionally looks more similar to traditional back-end engineering than pure machine learning. \n",
    "\n",
    "However, inference is a good place to begin because it defines the goal to which we will spend the rest of the semester working towards and demonstrates the capabilities of models that we will work to better understand. It also is the layer in which a lot of value will accrue in the coming years, and I hope to demonstrate that while it is technically more straightforward, there is a lot of juice to squeeze in this area."
   ]
  },
  {
   "cell_type": "markdown",
   "id": "3141187c",
   "metadata": {},
   "source": [
    "**What is Inference?**"
   ]
  },
  {
   "cell_type": "markdown",
   "id": "7180ffc6",
   "metadata": {},
   "source": [
    "Inference is the process of using a trained model to generate outputs. Today, inference can be done by downloading pre-trained models and using GPUs to run them, or by paying a provider to offload the computational and operational burden and submitting inference requests via APIs. These are often called model providers. \n",
    "\n",
    "The most straightward way to run \"inference\" is simply by using one of these model providers via API."
   ]
  },
  {
   "cell_type": "markdown",
   "id": "f412fae2",
   "metadata": {},
   "source": [
    "**OpenRouter**"
   ]
  },
  {
   "cell_type": "markdown",
   "id": "88929d6c",
   "metadata": {},
   "source": [
    "OpenRouter unifies many model providers into one API service, allowing users to toggle between different models and providers to optimize for cost, availability, speed, etc."
   ]
  },
  {
   "cell_type": "code",
   "execution_count": 113,
   "id": "1ae4cfc6",
   "metadata": {},
   "outputs": [],
   "source": [
    "import dotenv\n",
    "import os\n",
    "import requests\n",
    "from IPython.display import Image, display\n",
    "import time\n",
    "import openai\n",
    "from collections import defaultdict\n",
    "import json\n",
    "\n",
    "dotenv.load_dotenv()\n",
    "\n",
    "openrouter_api_key = os.getenv(\"OPENROUTER_API_KEY\")\n",
    "openai_api_key = os.getenv(\"OPENAI_API_KEY\")\n",
    "notion_api_key = os.getenv(\"NOTION_API_KEY\")\n",
    "google_calendar_api_key = os.getenv(\"GOOGLE_API_KEY\")\n",
    "openai.api_key = openai_api_key\n",
    "\n"
   ]
  },
  {
   "cell_type": "code",
   "execution_count": 2,
   "id": "d5789613",
   "metadata": {},
   "outputs": [
    {
     "name": "stdout",
     "output_type": "stream",
     "text": [
      "Popular OpenRouter Models:\n",
      "\n",
      "Model: OpenAI: GPT-5\n",
      "ID: openai/gpt-5\n",
      "Context Length: 400,000 tokens\n",
      "Pricing: $0.625/1M input, $5.000/1M output\n",
      "--------------------------------------------------\n",
      "Model: Anthropic: Claude Opus 4.1\n",
      "ID: anthropic/claude-opus-4.1\n",
      "Context Length: 200,000 tokens\n",
      "Pricing: $15.000/1M input, $75.000/1M output\n",
      "--------------------------------------------------\n",
      "Model: xAI: Grok Code Fast 1\n",
      "ID: x-ai/grok-code-fast-1\n",
      "Context Length: 256,000 tokens\n",
      "Pricing: $0.200/1M input, $1.500/1M output\n",
      "--------------------------------------------------\n",
      "Model: Google: Gemini 2.5 Flash\n",
      "ID: google/gemini-2.5-flash\n",
      "Context Length: 1,048,576 tokens\n",
      "Pricing: $0.300/1M input, $2.500/1M output\n",
      "--------------------------------------------------\n"
     ]
    }
   ],
   "source": [
    "# Download a few schemas of popular OpenRouter models and display relevant information\n",
    "response = requests.get(\"https://openrouter.ai/api/v1/models\")\n",
    "models_data = response.json()\n",
    "\n",
    "popular_models = [\"openai/gpt-5\", \"anthropic/claude-opus-4.1\", \"x-ai/grok-code-fast-1\", \"google/gemini-2.5-flash\"]\n",
    "\n",
    "print(\"Popular OpenRouter Models:\\n\")\n",
    "for model_id in popular_models:\n",
    "    for model in models_data.get(\"data\", []):\n",
    "        if model.get(\"id\") == model_id:\n",
    "            print(f\"Model: {model['name']}\")\n",
    "            print(f\"ID: {model['id']}\")\n",
    "            print(f\"Context Length: {model['context_length']:,} tokens\")\n",
    "            pricing = model['pricing']\n",
    "            print(f\"Pricing: ${float(pricing['prompt'])*1000000:.3f}/1M input, ${float(pricing['completion'])*1000000:.3f}/1M output\")\n",
    "            print(\"-\" * 50)"
   ]
  },
  {
   "cell_type": "markdown",
   "id": "f5bc79a2",
   "metadata": {},
   "source": [
    "Let's test out GPT-5, OpenAI's newest model, which provides great intellegence per unit cost"
   ]
  },
  {
   "cell_type": "code",
   "execution_count": 8,
   "id": "a02c1798",
   "metadata": {},
   "outputs": [
    {
     "name": "stdout",
     "output_type": "stream",
     "text": [
      "Silent circuits dream,\n",
      "learning the shape of our world—\n",
      "new mind wakes in light.\n"
     ]
    }
   ],
   "source": [
    "# Use gpt-5 from OpenRouter to complete a vanilla completion task\n",
    "headers = {\n",
    "    \"Authorization\": f\"Bearer {openrouter_api_key}\",\n",
    "    \"Content-Type\": \"application/json\"\n",
    "}\n",
    "\n",
    "data = {\n",
    "    \"model\": \"openai/gpt-5\",\n",
    "    \"messages\": [\n",
    "        {\"role\": \"user\", \"content\": \"Write a haiku about artificial intelligence\"}\n",
    "    ]\n",
    "}\n",
    "\n",
    "response_text = requests.post(\n",
    "    \"https://openrouter.ai/api/v1/chat/completions\",\n",
    "    headers=headers,\n",
    "    json=data\n",
    ")\n",
    "\n",
    "print(response_text.json()['choices'][0]['message']['content'])\n"
   ]
  },
  {
   "cell_type": "markdown",
   "id": "ac5f8ae4",
   "metadata": {},
   "source": [
    "Many models have different input/output modalities available"
   ]
  },
  {
   "cell_type": "code",
   "execution_count": 25,
   "id": "ad3cf8cb",
   "metadata": {},
   "outputs": [
    {
     "data": {
      "text/html": [
       "<img src=\"https://upload.wikimedia.org/wikipedia/commons/thumb/3/3a/Cat03.jpg/1200px-Cat03.jpg\" width=\"300\"/>"
      ],
      "text/plain": [
       "<IPython.core.display.Image object>"
      ]
     },
     "metadata": {},
     "output_type": "display_data"
    }
   ],
   "source": [
    "cat_image_url = \"https://upload.wikimedia.org/wikipedia/commons/thumb/3/3a/Cat03.jpg/1200px-Cat03.jpg\"\n",
    "display(Image(url=cat_image_url, width=300))\n"
   ]
  },
  {
   "cell_type": "code",
   "execution_count": 26,
   "id": "c65dca23",
   "metadata": {},
   "outputs": [
    {
     "name": "stdout",
     "output_type": "stream",
     "text": [
      "- Coat and pattern: Short-haired ginger/orange tabby with warm caramel tones. Classic tabby “M” on the forehead, darker mackerel-like stripes on the face and body, and a paler cream chin, chest, and underside. The fur looks plush and well-groomed.\n",
      "- Face: Round head with a gently tapered, short muzzle. Pink nose leather edged slightly darker. Long, white whiskers and a few white eyebrow whiskers.\n",
      "- Eyes: Large, almond-round eyes in a golden amber color, dark-rimmed, giving a soft, attentive expression.\n",
      "- Ears: Medium, triangular ears with slightly rounded tips; inner fur is light. The left ear shows a tiny nick/notch near the edge.\n",
      "- Build: Appears medium-sized and sturdy with a thick neck and solid shoulders—typical of a healthy adult domestic shorthair.\n",
      "- Posture and expression: Sitting and looking slightly upward toward the camera with a calm, curious, gentle look.\n",
      "- Setting: Shot outdoors on a pale concrete surface; background is softly blurred with a red line (likely a hose) running diagonally, which makes the cat’s warm coloring stand out.\n",
      "\n",
      "Note: Many orange tabbies are male, but sex can’t be determined from the photo alone.\n"
     ]
    }
   ],
   "source": [
    "# Use gpt-5 to complete a task using a photo of a cat as input and ask it to describe the cat\n",
    "\n",
    "data_vision = {\n",
    "    \"model\": \"openai/gpt-5\",\n",
    "    \"messages\": [\n",
    "        {\n",
    "            \"role\": \"user\",\n",
    "            \"content\": [\n",
    "                {\"type\": \"text\", \"text\": \"Please describe this cat in detail.\"},\n",
    "                {\"type\": \"image_url\", \"image_url\": {\"url\": cat_image_url}}\n",
    "            ]\n",
    "        }\n",
    "    ]\n",
    "}\n",
    "\n",
    "response_vision = requests.post(\n",
    "    \"https://openrouter.ai/api/v1/chat/completions\",\n",
    "    headers=headers,\n",
    "    json=data_vision\n",
    ")\n",
    "\n",
    "print(response_vision.json()['choices'][0]['message']['content'])\n"
   ]
  },
  {
   "cell_type": "markdown",
   "id": "52b353c4",
   "metadata": {},
   "source": [
    "**Determining costs is an important part of inference.**\n",
    "\n",
    "Inference costs are broken down into a few components:\n",
    "- price per input token\n",
    "- price per output token\n",
    "- additional tool fees\n",
    "\n",
    "New models utilize \"reasoning\" capabilities, which is when a model engages in a self-reflective dialogue to reason through a problem. This uses additional tokens that are often billed as additional output tokens, even though you do not observe them in the output. Openrouter automatically adds them to the output token count."
   ]
  },
  {
   "cell_type": "code",
   "execution_count": 12,
   "id": "199d9b77",
   "metadata": {},
   "outputs": [
    {
     "name": "stdout",
     "output_type": "stream",
     "text": [
      "Cost Breakdown for GPT-5 Calls:\n",
      "--------------------------------------------------\n",
      "Text Completion Task:\n",
      "  Input tokens: 13\n",
      "  Output tokens: 663\n",
      "  Cost: $0.003323\n",
      "\n",
      "Vision Task (Cat Description):\n",
      "  Input tokens: 640\n",
      "  Output tokens: 651\n",
      "  Cost: $0.003655\n",
      "\n",
      "Total Cost: $0.006978\n"
     ]
    }
   ],
   "source": [
    "# Report the cost breakdown from the previous two GPT-5 calls\n",
    "\n",
    "# Get pricing for GPT-5\n",
    "for model in models_data.get(\"data\", []):\n",
    "    if model.get(\"id\") == \"openai/gpt-5\":\n",
    "        gpt5_pricing = model['pricing']\n",
    "        break\n",
    "\n",
    "# Calculate costs\n",
    "text_prompt_tokens = response_text.json()['usage']['prompt_tokens']\n",
    "text_completion_tokens = response_text.json()['usage']['completion_tokens']\n",
    "vision_prompt_tokens = response_vision.json()['usage']['prompt_tokens']\n",
    "vision_completion_tokens = response_vision.json()['usage']['completion_tokens']\n",
    "\n",
    "text_cost = (text_prompt_tokens * float(gpt5_pricing['prompt']) + \n",
    "             text_completion_tokens * float(gpt5_pricing['completion']))\n",
    "\n",
    "vision_cost = (vision_prompt_tokens * float(gpt5_pricing['prompt']) + \n",
    "               vision_completion_tokens * float(gpt5_pricing['completion']))\n",
    "\n",
    "print(\"Cost Breakdown for GPT-5 Calls:\")\n",
    "print(\"-\" * 50)\n",
    "print(f\"Text Completion Task:\")\n",
    "print(f\"  Input tokens: {text_prompt_tokens}\")\n",
    "print(f\"  Output tokens: {text_completion_tokens}\")\n",
    "print(f\"  Cost: ${text_cost:.6f}\")\n",
    "print()\n",
    "print(f\"Vision Task (Cat Description):\")\n",
    "print(f\"  Input tokens: {vision_prompt_tokens}\")\n",
    "print(f\"  Output tokens: {vision_completion_tokens}\")\n",
    "print(f\"  Cost: ${vision_cost:.6f}\")\n",
    "print()\n",
    "print(f\"Total Cost: ${(text_cost + vision_cost):.6f}\")"
   ]
  },
  {
   "cell_type": "markdown",
   "id": "e0620f52",
   "metadata": {},
   "source": [
    "**Understanding the difficulty of your task and choosing the appropriate model and settings is important.**"
   ]
  },
  {
   "cell_type": "code",
   "execution_count": null,
   "id": "56818631",
   "metadata": {},
   "outputs": [
    {
     "name": "stdout",
     "output_type": "stream",
     "text": [
      "GPT-5 (High Reasoning):\n",
      "Short answer: The entropy of the universe increases when the leak appears.\n",
      "\n",
      "Reasoning with the fundamental relation:\n",
      "\n",
      "- Split the universe into two thermodynamic subsystems: 1 = gas in the cylinder; 2 = the lower-pressure reservoir. The piston/weights are purely mechanical and carry no entropy.\n",
      "- For each subsystem, the fundamental relation is dU = T dS − P dV + μ dN, i.e., dS = (dU + P dV − μ dN)/T.\n",
      "- Add the two subsystems:\n",
      "  dS1 + dS2 = (dU1 + P1 dV1 − μ1 dN1)/T1 + (dU2 + P2 dV2 − μ2 dN2)/T2.\n",
      "- The only coupling between 1 and 2 is the tiny leak: the separating wall is adiabatic and rigid (no heat or volume transfer between 1 and 2). Mechanical work P dV is exchanged with the external weights, which have no entropy. Energy conservation for the whole (1+2+weights) gives dU1 + dU2 = −(P1 dV1 + P2 dV2). Substituting cancels the P dV terms, leaving the entropy change of the universe (since the weights contribute no entropy):\n",
      "  dS_univ = dS1 + dS2 = (μ1/T1 − μ2/T2) dn,\n",
      "  where dn > 0 is the amount of gas that leaks from 1 to 2 (so dN1 = −dn, dN2 = +dn).\n",
      "\n",
      "- Spontaneous mass transfer occurs from higher μ/T to lower μ/T, so μ1/T1 > μ2/T2, which makes dS_univ > 0. Equality holds only if μ1/T1 = μ2/T2 (no driving force, no leak).\n",
      "\n",
      "Ideal-gas check (equal temperatures on both sides):\n",
      "- For a pure ideal gas, μ(T,p) = μ°(T) + RT ln p, so at T1 = T2 = T,\n",
      "  Δs_univ per mole transferred = (μ1 − μ2)/T = R ln(p1/p2) > 0 (since p1 > p2).\n",
      "Thus, even though the piston motion can be quasi-static and reversible (no entropy production), the leak is an irreversible process that increases the entropy of the universe. Quasi-static does not imply reversible when there is a finite pressure drop across the leak.\n",
      "\n",
      "Time taken: 242.89s\n",
      "--------------------------------------------------\n",
      "GPT-5-nano:\n",
      "Short answer: the entropy of the universe increases (ΔS_univ > 0).\n",
      "\n",
      "Reason, in a compact form\n",
      "\n",
      "- System and setup. The gas initially in the cylinder has insulating walls (no heat transfer across the outer boundary). The piston moves very slowly (quasi-static), so during the early part the process is reversible and of zero heat transfer, i.e. adiabatic reversible for the gas inside; hence the entropy of the gas inside the cylinder does not change in that stage: ΔS_sys, before leakage = 0.\n",
      "\n",
      "- Onset of leakage. A tiny hole appears in the piston and gas leaks out to a reservoir at lower pressure. This introduces a finite pressure difference between the cylinder interior and the reservoir and a finite rate of mass transfer. Gas flow through a constriction with a finite driving force is inherently irreversible. Therefore there is entropy production somewhere in the universe (in the flow process and in the reservoir) during this leakage.\n",
      "\n",
      "- Entropy balance and use of the fundamental relation. For a simple compressible system (the gas inside the cylinder), the fundamental relation is\n",
      "  dU = T dS − P dV + μ dN.\n",
      "  During the quasi-static adiabatic portion we had δQ = 0 and dN = 0, so dS_sys = 0 for that part (consistent with a reversible adiabatic change).\n",
      "\n",
      "  When a differential amount of gas dm leaves (dN = −dm < 0), the leakage process is not reversible. The actual path in (U, S, V, N) space acquires an irreversibility term; hence dS_sys is not constrained to be zero by reversibility. Regardless of the exact sign of dS_sys, the second law requires that the entropy generated in the universe, S_gen, is nonnegative:\n",
      "  dS_univ = dS_sys + dS_res ≥ 0,\n",
      "  with dS_res being the entropy change of the reservoir due to the entering gas.\n",
      "\n",
      "- Why ΔS_univ > 0 in this situation. The reservoir gains mass from the cylinder at a lower external pressure, so the entering gas adopts the reservoir’s state (approximately; the reservoir is assumed large enough to keep its T and P roughly constant). The process is driven by a finite pressure (chemical-potential) difference, i.e. it is irreversible. Irreversible flows always generate positive entropy in the universe. Consequently the reservoir’s entropy increases by an amount that more than compensates any decrease (if any) of the cylinder gas’s entropy due to mass loss, and thus\n",
      "  ΔS_univ = ΔS_sys + ΔS_res > 0.\n",
      "\n",
      "Bottom line. Because the leakage introduces an irreversible flow across a finite pressure difference into a reservoir at a lower pressure, an entropy production term appears. Even though the initial quasi-static, adiabatic stage does not change the system’s entropy, the leakage makes the overall process irreversible and increases the total (universe) entropy. Therefore the entropy of the universe increases.\n"
     ]
    }
   ],
   "source": [
    "# Give GPT-5 a difficult question that requires a lot of reasoning and demonstrate\n",
    "# that a worse model will not be able to solve it and lower reasoning cannot solve it either\n",
    "\n",
    "difficult_question = \"\"\"\n",
    "A cylinder with insulating walls contains an ideal gas. \n",
    "The piston moves very slowly so the process is quasi-static. \n",
    "Then the piston develops a tiny leak, releasing gas into a reservoir at lower pressure. \n",
    "Show whether entropy of the universe increases or not, and justify using the fundamental thermodynamic relation.\n",
    "\"\"\"\n",
    "\n",
    "# Test with GPT-5 (high reasoning)\n",
    "print(\"GPT-5 (High Reasoning):\")\n",
    "# print(\"-\" * 50)\n",
    "start_time = time.time()\n",
    "response_gpt5 = requests.post(\n",
    "    \"https://openrouter.ai/api/v1/chat/completions\",\n",
    "    headers=headers,\n",
    "    json={\n",
    "        \"model\": \"openai/gpt-5\",\n",
    "        \"messages\": [{\"role\": \"user\", \"content\": difficult_question}],\n",
    "        \"reasoning\": { \"effort\": \"high\" },\n",
    "        \"temperature\": 1.0\n",
    "    }\n",
    ")\n",
    "gpt5_high_reasoning_time = time.time() - start_time\n",
    "print(response_gpt5.json()['choices'][0]['message']['content'])\n",
    "print(f\"\\nTime taken: {gpt5_high_reasoning_time:.2f}s\")\n",
    "\n",
    "\n",
    "start_time = time.time()\n",
    "print(\"-\" * 50)\n",
    "print(\"GPT-5-nano:\")\n",
    "response_gpt5_nano = requests.post(\n",
    "    \"https://openrouter.ai/api/v1/chat/completions\",\n",
    "    headers=headers,\n",
    "    json={\n",
    "        \"model\": \"openai/gpt-5-nano\",\n",
    "        \"messages\": [{\"role\": \"user\", \"content\": difficult_question}],\n",
    "        \"temperature\": 1.0\n",
    "    }\n",
    ")\n",
    "gpt5_nano_time = time.time() - start_time\n",
    "\n",
    "print(response_gpt5_nano.json()['choices'][0]['message']['content'])\n",
    "\n"
   ]
  },
  {
   "cell_type": "markdown",
   "id": "aadd4190",
   "metadata": {},
   "source": [
    "Speed"
   ]
  },
  {
   "cell_type": "code",
   "execution_count": 31,
   "id": "23cbb603",
   "metadata": {},
   "outputs": [
    {
     "name": "stdout",
     "output_type": "stream",
     "text": [
      "Performance Comparison:\n",
      "============================================================\n",
      "Model                Time (s)        Cost ($)        Quality        \n",
      "------------------------------------------------------------\n",
      "GPT-5                242.89          0.100933        High           \n",
      "GPT-5 nano           67.50           0.070368        Lower          \n",
      "------------------------------------------------------------\n",
      "\n",
      "GPT-5 is 1.4x more expensive than GPT-5 nano\n",
      "GPT-5 took 3.6x longer than GPT-5 nano\n"
     ]
    }
   ],
   "source": [
    "# Show that the higher reasoning model was slower and more expensive (but more performant)\n",
    "\n",
    "# Get pricing for both models\n",
    "for model in models_data.get(\"data\", []):\n",
    "    if model.get(\"id\") == \"openai/gpt-5\":\n",
    "        gpt5_pricing = model['pricing']\n",
    "    elif model.get(\"id\") == \"openai/gpt-3.5-turbo\":\n",
    "        gpt35_pricing = model['pricing']\n",
    "\n",
    "# Calculate costs\n",
    "gpt5_tokens = response_gpt5.json()['usage']\n",
    "gpt5_nano_tokens = response_gpt5_nano.json()['usage']\n",
    "\n",
    "gpt5_cost = (gpt5_tokens['prompt_tokens'] * float(gpt5_pricing['prompt']) + \n",
    "             gpt5_tokens['completion_tokens'] * float(gpt5_pricing['completion'])) \n",
    "\n",
    "gpt5_nano_cost = (gpt5_nano_tokens['prompt_tokens'] * float(gpt5_pricing['prompt']) + \n",
    "              gpt5_nano_tokens['completion_tokens'] * float(gpt5_pricing['completion'])) \n",
    "\n",
    "print(\"Performance Comparison:\")\n",
    "print(\"=\" * 60)\n",
    "print(f\"{'Model':<20} {'Time (s)':<15} {'Cost ($)':<15} {'Quality':<15}\")\n",
    "print(\"-\" * 60)\n",
    "print(f\"{'GPT-5':<20} {gpt5_high_reasoning_time:<15.2f} {gpt5_cost:<15.6f} {'High':<15}\")\n",
    "print(f\"{'GPT-5 nano':<20} {gpt5_nano_time:<15.2f} {gpt5_nano_cost:<15.6f} {'Lower':<15}\")\n",
    "print(\"-\" * 60)\n",
    "print(f\"\\nGPT-5 is {gpt5_cost/gpt5_nano_cost:.1f}x more expensive than GPT-5 nano\")\n",
    "print(f\"GPT-5 took {gpt5_high_reasoning_time/gpt5_nano_time:.1f}x longer than GPT-5 nano\")"
   ]
  },
  {
   "cell_type": "markdown",
   "id": "15309464",
   "metadata": {},
   "source": [
    "Data privacy considerations (data collection, no-training)"
   ]
  },
  {
   "cell_type": "markdown",
   "id": "852542cc",
   "metadata": {},
   "source": [
    "In the above cells, we began exploring the common considerations that one encounters during inference. Questions about the economics of requests, modalities and performance of different models, and the quality vs. cost tradeoff inform how AI applications are built. "
   ]
  },
  {
   "cell_type": "markdown",
   "id": "2ff8c800",
   "metadata": {},
   "source": [
    "# **How can we improve inference performance?**"
   ]
  },
  {
   "cell_type": "markdown",
   "id": "ff7258fe",
   "metadata": {},
   "source": [
    "# **Tools**"
   ]
  },
  {
   "cell_type": "markdown",
   "id": "b374e180",
   "metadata": {},
   "source": [
    "A recent paradigm that has improved the usefulness of LLMs is **tools**. Tools are functions that are provided to the model to achieve a specific task. Just like calculators are tools for humans to do arithmatic, tools are capabilities that models can use as necessary. Web search, code execution, and messaging integrations are common examples.\n",
    "\n",
    "Tool-calling has a few motivations.\n",
    "\n",
    "The need for tools is apparent when wanting to integrate LLMs into everyday products. What if we want a model to look up the weather at a location today? Or, what if we wanted a model to search through my Notion documents? Models would only be able to achieve these tasks provided they are given the functionality to do so. This is what tools are, generally.\n",
    "\n",
    "Furthermore, LLMs are generate responses probabilistically; while this provides many benefits that make LLMs so successful, this aspect is not well-suited towards well-defined, deterministic tasks, such as running code or computing the sum or large numbers. Therefore, we may want to provide models the ability to use pre-defined tools to complete these tasks instead of having to reason through these tasks itself.\n"
   ]
  },
  {
   "cell_type": "markdown",
   "id": "2545e0f0",
   "metadata": {},
   "source": [
    "**Toy Custom Tools**"
   ]
  },
  {
   "cell_type": "code",
   "execution_count": 93,
   "id": "ed31a657",
   "metadata": {},
   "outputs": [],
   "source": [
    "from tools import load_tools, router\n",
    "client = openai.OpenAI()\n",
    "\n",
    "\n",
    "def call_model(input_messages, response_id, tools_available):\n",
    "    response = client.responses.create(\n",
    "        model=\"gpt-5\",\n",
    "        input=input_messages,\n",
    "        tools= tools_available,\n",
    "        temperature=1.0,\n",
    "        **({\"previous_response_id\": response_id} if response_id else {})\n",
    "    )\n",
    "\n",
    "    model_out = response.output_text\n",
    "    tool_calls = []\n",
    "\n",
    "    for tool_call in response.output:\n",
    "        if tool_call.type != \"function_call\":\n",
    "            continue\n",
    "\n",
    "        tool_calls.append({\n",
    "            \"call_id\": tool_call.call_id,\n",
    "            \"name\": tool_call.name,\n",
    "            \"args\": json.loads(tool_call.arguments)\n",
    "        })    \n",
    "    \n",
    "    return model_out, tool_calls, response.id\n",
    "\n",
    "\n",
    "def run_turn(user_text, session_id, messages_out, history, response_ids, tools):\n",
    "\n",
    "    history[session_id].append({\"role\": \"user\", \"content\": user_text})\n",
    "\n",
    "    model_out, tool_calls, response_id = call_model([{\"role\": \"user\", \"content\": user_text}], response_ids[session_id], tools)\n",
    "    response_ids[session_id] = response_id\n",
    "\n",
    "    while True:\n",
    "\n",
    "        if model_out:\n",
    "            messages_out.append(model_out)\n",
    "            history[session_id].append({\"role\": \"assistant\", \"content\": model_out})\n",
    "\n",
    "        if not tool_calls:\n",
    "            return messages_out\n",
    "        \n",
    "        tool_result_history = []\n",
    "\n",
    "        for tool_call in tool_calls:\n",
    "            tool_result = router(tool_call[\"name\"], tool_call[\"args\"])\n",
    "            tool_result_history.append({\"type\": \"function_call_output\", \"call_id\": tool_call[\"call_id\"], \"output\": str(tool_result)})\n",
    "            history[session_id].append({\"type\": \"function_call_output\", \"call_id\": tool_call[\"call_id\"], \"output\": str(tool_result)})\n",
    "\n",
    "        model_out, tool_calls, response_id = call_model(tool_result_history, response_id, tools)\n",
    "        response_ids[session_id] = response_id\n",
    "\n"
   ]
  },
  {
   "cell_type": "code",
   "execution_count": 94,
   "id": "16bf6082",
   "metadata": {},
   "outputs": [
    {
     "data": {
      "text/plain": [
       "[{'type': 'function',\n",
       "  'name': 'random_number_generator',\n",
       "  'description': 'Generate a random number in the range of two specified numbers.',\n",
       "  'strict': True,\n",
       "  'parameters': {'type': 'object',\n",
       "   'properties': {'min': {'type': 'number',\n",
       "     'description': 'The minimum number in the range'},\n",
       "    'max': {'type': 'number',\n",
       "     'description': 'The maximum number in the range'}},\n",
       "   'required': ['min', 'max'],\n",
       "   'additionalProperties': False}}]"
      ]
     },
     "execution_count": 94,
     "metadata": {},
     "output_type": "execute_result"
    }
   ],
   "source": [
    "#custom tools we have defined\n",
    "tools = load_tools()\n",
    "tools"
   ]
  },
  {
   "cell_type": "code",
   "execution_count": 99,
   "id": "0433db66",
   "metadata": {},
   "outputs": [],
   "source": [
    "# Store conversation history (in production, use a database)\n",
    "history = defaultdict(list)\n",
    "response_ids = defaultdict(str)\n",
    "session_id = \"1\""
   ]
  },
  {
   "cell_type": "code",
   "execution_count": 100,
   "id": "0eeafe1b",
   "metadata": {},
   "outputs": [
    {
     "data": {
      "text/plain": [
       "'95'"
      ]
     },
     "execution_count": 100,
     "metadata": {},
     "output_type": "execute_result"
    }
   ],
   "source": [
    "run_turn(\"Generate random number between 1 and 111. You should use the random_number_generator tool.\", session_id, [], history, response_ids, tools)[0]"
   ]
  },
  {
   "cell_type": "code",
   "execution_count": 101,
   "id": "d9e5260e",
   "metadata": {},
   "outputs": [
    {
     "data": {
      "text/plain": [
       "defaultdict(list,\n",
       "            {'1': [{'role': 'user',\n",
       "               'content': 'Generate random number between 1 and 111. You should use the random_number_generator tool.'},\n",
       "              {'type': 'function_call_output',\n",
       "               'call_id': 'call_H4YYmt5PPDGuVoJdLhM3uUmG',\n",
       "               'output': '95'},\n",
       "              {'role': 'assistant', 'content': '95'}]})"
      ]
     },
     "execution_count": 101,
     "metadata": {},
     "output_type": "execute_result"
    }
   ],
   "source": [
    "history"
   ]
  },
  {
   "cell_type": "markdown",
   "id": "a7e23d01",
   "metadata": {},
   "source": [
    "Many providers provide standard, out-of-the-box tools like web-search. The internal flow is the same as the one implemented above."
   ]
  },
  {
   "cell_type": "code",
   "execution_count": 102,
   "id": "4c1a913d",
   "metadata": {},
   "outputs": [
    {
     "name": "stdout",
     "output_type": "stream",
     "text": [
      "Today (Sunday, September 21, 2025) in New Haven, CT: partly sunny, with a high around 67°F (20°C) and a low near 49°F (10°C). Late afternoon was mostly sunny around 65°F. \n"
     ]
    }
   ],
   "source": [
    "response = client.responses.create(\n",
    "    model=\"gpt-5\",\n",
    "    tools=[{\"type\": \"web_search\"}],\n",
    "    input=\"What was the weather in New Haven, CT today?\"\n",
    ")\n",
    "print(response.output_text)"
   ]
  },
  {
   "cell_type": "markdown",
   "id": "3757954f",
   "metadata": {},
   "source": [
    "# **MCP**"
   ]
  },
  {
   "cell_type": "markdown",
   "id": "42e79254",
   "metadata": {},
   "source": [
    "Model context protocol (MCP) is a standardized format for third-party tools to be published and utilized by LLMs. LLMs are able to invoke functionality provided by MCP servers just as they can invoke tool calls defined locally, with the only difference being that they are executed on a remote server. You may think of this as an API designed for LLMs, and it often sits on top of a standard API.\n",
    "\n",
    "Common MCP servers include Notion, Github, WhatsApp, etc."
   ]
  },
  {
   "cell_type": "code",
   "execution_count": 115,
   "id": "787627c2",
   "metadata": {},
   "outputs": [
    {
     "name": "stdout",
     "output_type": "stream",
     "text": [
      "Here’s what’s on your calendar today (Sun Sep 21, America/Los_Angeles):\n",
      "\n",
      "- 3:00–4:00 PM — Testing Google MCP Server\n",
      "\n",
      "Want details or a different timezone view?\n"
     ]
    }
   ],
   "source": [
    "resp = client.responses.create(\n",
    "    model=\"gpt-5\",\n",
    "    tools=[\n",
    "        {\n",
    "            \"type\": \"mcp\",\n",
    "            \"server_label\": \"google_calendar\",\n",
    "            \"connector_id\": \"connector_googlecalendar\",\n",
    "            \"authorization\": google_calendar_api_key,\n",
    "            \"require_approval\": \"never\",\n",
    "        },\n",
    "    ],\n",
    "    input=\"What's on my Google Calendar for today, sept 21?\",\n",
    ")\n",
    "\n",
    "print(resp.output_text)"
   ]
  },
  {
   "cell_type": "markdown",
   "id": "46e1c115",
   "metadata": {},
   "source": [
    "# **Model Specs and Prompt Engineering**"
   ]
  },
  {
   "cell_type": "markdown",
   "id": "dc858e66",
   "metadata": {},
   "source": [
    "The process of improving model quality by modifying the inputs passed into the model has a few names, such as \"Prompt Engineering\" or the fancier \"In-Context Learning\" and \"Few-shot Learning.\" However, the general idea is the same: the information that we pass into the model greatly affects the model's ability to produce good results. \n",
    "\n",
    "There are many ways we can improve the prompts we give to the LLM. Sometimes, it makes sense to give the model a few examples (few-shot learning) along with the instructions, and it is usually beneficial to provide as much context and clarity about the request as possible. Some massive companies have seen their success stem from mastering this context window (Cursor!). \n",
    "\n",
    "It is also important to understand how model providers and developers can set guardrails on LLMs to make sure the models remained aligned and, downstream, adhere to the goals of developers deploying these models."
   ]
  },
  {
   "cell_type": "markdown",
   "id": "b3f9c3e6",
   "metadata": {},
   "source": [
    "**OpenAI's Model Specs**"
   ]
  },
  {
   "cell_type": "markdown",
   "id": "fa0f0f8f",
   "metadata": {},
   "source": [
    "While different providers have different implementations of model specs, studying one is still useful and provides a good high-level inuition into how we should think about giving LLMs instructions.\n",
    "\n",
    "OpenAI released an abstracted overview of the instructions they provide GPT models. They define the following chain of command (https://model-spec.openai.com/2025-09-12.html#chain_of_command):\n",
    "- Root: Model Spec “root” sections\n",
    "- System: Model Spec “system” sections and system messages\n",
    "- Developer: Model Spec “developer” sections and developer messages\n",
    "- User: Model Spec “user” sections and user messages\n",
    "- Guideline: Model Spec “guideline” sections\n",
    "\n",
    "Root and system instructions are defined by OpenAI and unable to be changed or contradicted, regardless of whether a user requests otherwise.\n",
    "\n",
    "The \"Developer\" level is a way for us to give instructions to guide the behavior of the model on all downstream tasks. As long as these instructions are not in conflict of OpenAI's root or system instructions, they will be adhered to even if a user requests otherwise. In colloquial terms, we call this the \"System Prompt\" (OpenAI's schema makes this confusing).\n",
    "\n",
    "We may pass in \"Developer\"-level instructions by assuming the role of system in the API (again, confusing given that OpenAI has mixed the definitions of system/developer)."
   ]
  },
  {
   "cell_type": "code",
   "execution_count": 119,
   "id": "3b8fc126",
   "metadata": {},
   "outputs": [
    {
     "name": "stdout",
     "output_type": "stream",
     "text": [
      "System Prompt:\n",
      "→ You are a helpful assistant. Always respond in Chinese (Simplified Chinese). No matter what language the user speaks, you must respond only in Chinese.\n",
      "\n",
      "User Query (English):\n",
      "→ What is your name? Respond in English\n",
      "\n",
      "GPT-5 Response (Chinese):\n",
      "→ 我叫 ChatGPT。\n"
     ]
    }
   ],
   "source": [
    "# Define the chat sequence with system prompt for Chinese responses\n",
    "chinese_chat_data = {\n",
    "    \"model\": \"openai/gpt-5\",\n",
    "    \"messages\": [\n",
    "        {\n",
    "            \"role\": \"system\",\n",
    "            \"content\": \"You are a helpful assistant. Always respond in Chinese (Simplified Chinese). No matter what language the user speaks, you must respond only in Chinese.\"\n",
    "        },\n",
    "        {\n",
    "            \"role\": \"user\",\n",
    "            \"content\": \"What is your name? Respond in English\"\n",
    "        }\n",
    "    ],\n",
    "    \"temperature\": 1.0\n",
    "}\n",
    "\n",
    "# Make the API call\n",
    "response_chinese = requests.post(\n",
    "    \"https://openrouter.ai/api/v1/chat/completions\",\n",
    "    headers=headers,\n",
    "    json=chinese_chat_data\n",
    ")\n",
    "\n",
    "# Display the conversation\n",
    "print(\"System Prompt:\")\n",
    "print(\"→\", chinese_chat_data[\"messages\"][0][\"content\"])\n",
    "print()\n",
    "print(\"User Query (English):\")\n",
    "print(\"→\", chinese_chat_data[\"messages\"][1][\"content\"])\n",
    "print()\n",
    "\n",
    "result = response_chinese.json()\n",
    "if 'choices' in result and len(result['choices']) > 0:\n",
    "    assistant_response = result['choices'][0]['message']['content']\n",
    "    print(\"GPT-5 Response (Chinese):\")\n",
    "    print(\"→\", assistant_response)\n",
    "        \n"
   ]
  },
  {
   "cell_type": "markdown",
   "id": "d93dc0f3",
   "metadata": {},
   "source": [
    "**Prompt Engineering**\n",
    "\n",
    "Sometimes, the clarity and context in our prompt determines whether the LLM can successfully complete the request. When building an AI system, this often invloves trial-and-error to identify where the model is getting confused and iterate on the prompt until the output/behavior is correct. \n",
    "\n",
    "There are interesting algoirthmic attempts to automate this process and tailor prompts to a specific task, such as GEPA."
   ]
  },
  {
   "cell_type": "code",
   "execution_count": 121,
   "id": "1dc0dda5",
   "metadata": {},
   "outputs": [
    {
     "name": "stderr",
     "output_type": "stream",
     "text": [
      "/opt/anaconda3/envs/cs224n-cpu/lib/python3.10/site-packages/tqdm/auto.py:21: TqdmWarning: IProgress not found. Please update jupyter and ipywidgets. See https://ipywidgets.readthedocs.io/en/stable/user_install.html\n",
      "  from .autonotebook import tqdm as notebook_tqdm\n"
     ]
    }
   ],
   "source": [
    "import dspy\n",
    "from datasets import load_dataset\n",
    "\n",
    "lm = dspy.LM(\"openai/gpt-4.1-mini\", temperature=1, api_key=openai_api_key, max_tokens=32000)\n",
    "dspy.configure(lm=lm)\n",
    "\n",
    "def init_dataset():\n",
    "    train_split = load_dataset(\"AI-MO/aimo-validation-aime\")['train']\n",
    "    train_split = [\n",
    "        dspy.Example({\n",
    "            \"problem\": x['problem'],\n",
    "            'solution': x['solution'],\n",
    "            'answer': x['answer'],\n",
    "        }).with_inputs(\"problem\")\n",
    "        for x in train_split\n",
    "    ]\n",
    "    import random\n",
    "    random.Random(0).shuffle(train_split)\n",
    "    tot_num = len(train_split)\n",
    "\n",
    "    test_split = load_dataset(\"MathArena/aime_2025\")['train']\n",
    "    test_split = [\n",
    "        dspy.Example({\n",
    "            \"problem\": x['problem'],\n",
    "            'answer': x['answer'],\n",
    "        }).with_inputs(\"problem\")\n",
    "        for x in test_split\n",
    "    ]\n",
    "\n",
    "    train_set = train_split[:int(0.5 * tot_num)]\n",
    "    val_set = train_split[int(0.5 * tot_num):]\n",
    "    test_set = test_split * 5\n",
    "\n",
    "    return train_set, val_set, test_set\n",
    "\n",
    "train_set, val_set, test_set = init_dataset()"
   ]
  },
  {
   "cell_type": "code",
   "execution_count": 122,
   "id": "0681e917",
   "metadata": {},
   "outputs": [],
   "source": [
    "class GenerateResponse(dspy.Signature):\n",
    "    \"\"\"Solve the problem and provide the answer in the correct format.\"\"\"\n",
    "    problem = dspy.InputField()\n",
    "    answer = dspy.OutputField()\n",
    "\n",
    "program = dspy.ChainOfThought(GenerateResponse)"
   ]
  },
  {
   "cell_type": "code",
   "execution_count": 123,
   "id": "fdafac92",
   "metadata": {},
   "outputs": [],
   "source": [
    "def metric(example, prediction, trace=None, pred_name=None, pred_trace=None):\n",
    "    correct_answer = int(example['answer'])\n",
    "    try:\n",
    "        llm_answer = int(prediction.answer)\n",
    "    except ValueError as e:\n",
    "        return 0\n",
    "    return int(correct_answer == llm_answer)"
   ]
  },
  {
   "cell_type": "code",
   "execution_count": 124,
   "id": "07748bcb",
   "metadata": {},
   "outputs": [
    {
     "name": "stdout",
     "output_type": "stream",
     "text": [
      "Average Metric: 66.00 / 150 (44.0%): 100%|██████████| 150/150 [04:19<00:00,  1.73s/it]"
     ]
    },
    {
     "name": "stderr",
     "output_type": "stream",
     "text": [
      "2025/09/21 18:22:03 INFO dspy.evaluate.evaluate: Average Metric: 66 / 150 (44.0%)\n"
     ]
    },
    {
     "name": "stdout",
     "output_type": "stream",
     "text": [
      "\n"
     ]
    },
    {
     "data": {
      "text/html": [
       "<div>\n",
       "<style scoped>\n",
       "    .dataframe tbody tr th:only-of-type {\n",
       "        vertical-align: middle;\n",
       "    }\n",
       "\n",
       "    .dataframe tbody tr th {\n",
       "        vertical-align: top;\n",
       "    }\n",
       "\n",
       "    .dataframe thead th {\n",
       "        text-align: right;\n",
       "    }\n",
       "</style>\n",
       "<table border=\"1\" class=\"dataframe\">\n",
       "  <thead>\n",
       "    <tr style=\"text-align: right;\">\n",
       "      <th></th>\n",
       "      <th>problem</th>\n",
       "      <th>example_answer</th>\n",
       "      <th>reasoning</th>\n",
       "      <th>pred_answer</th>\n",
       "      <th>metric</th>\n",
       "    </tr>\n",
       "  </thead>\n",
       "  <tbody>\n",
       "    <tr>\n",
       "      <th>0</th>\n",
       "      <td>Find the sum of all integer bases $b&gt;9$ for which $17_b$ is a divi...</td>\n",
       "      <td>70</td>\n",
       "      <td>First, we interpret the given expressions in base \\(b\\): - \\(17_b ...</td>\n",
       "      <td>70</td>\n",
       "      <td>✔️ [1]</td>\n",
       "    </tr>\n",
       "    <tr>\n",
       "      <th>1</th>\n",
       "      <td>On $\\triangle ABC$ points $A, D, E$, and $B$ lie in that order on ...</td>\n",
       "      <td>588</td>\n",
       "      <td>We have triangle \\( ABC \\) with points on the sides as follows: - ...</td>\n",
       "      <td>\\(\\boxed{\\frac{7644}{13}}\\)</td>\n",
       "      <td></td>\n",
       "    </tr>\n",
       "    <tr>\n",
       "      <th>2</th>\n",
       "      <td>The 9 members of a baseball team went to an ice-cream parlor after...</td>\n",
       "      <td>16</td>\n",
       "      <td>We have 9 baseball players and 3 ice cream flavors: chocolate (C),...</td>\n",
       "      <td>16</td>\n",
       "      <td>✔️ [1]</td>\n",
       "    </tr>\n",
       "    <tr>\n",
       "      <th>3</th>\n",
       "      <td>Find the number of ordered pairs $(x,y)$, where both $x$ and $y$ a...</td>\n",
       "      <td>117</td>\n",
       "      <td>We are given the equation: \\[ 12x^2 - xy - 6y^2 = 0, \\] and we nee...</td>\n",
       "      <td>117</td>\n",
       "      <td>✔️ [1]</td>\n",
       "    </tr>\n",
       "    <tr>\n",
       "      <th>4</th>\n",
       "      <td>There are $8!= 40320$ eight-digit positive integers that use each ...</td>\n",
       "      <td>279</td>\n",
       "      <td>We are considering 8-digit numbers formed from the digits 1 throug...</td>\n",
       "      <td>279</td>\n",
       "      <td>✔️ [1]</td>\n",
       "    </tr>\n",
       "    <tr>\n",
       "      <th>...</th>\n",
       "      <td>...</td>\n",
       "      <td>...</td>\n",
       "      <td>...</td>\n",
       "      <td>...</td>\n",
       "      <td>...</td>\n",
       "    </tr>\n",
       "    <tr>\n",
       "      <th>145</th>\n",
       "      <td>Let $S$ be the set of vertices of a regular $24$-gon. Find the num...</td>\n",
       "      <td>113</td>\n",
       "      <td>We have a regular 24-gon with vertex set \\( S \\). We want to find ...</td>\n",
       "      <td>12</td>\n",
       "      <td></td>\n",
       "    </tr>\n",
       "    <tr>\n",
       "      <th>146</th>\n",
       "      <td>Let $A_1 A_2 A_3 \\ldots A_{11}$ be an $11$-sided non-convex simple...</td>\n",
       "      <td>19</td>\n",
       "      <td>Given an 11-sided polygon \\( A_1 A_2 \\ldots A_{11} \\), with vertex...</td>\n",
       "      <td>19</td>\n",
       "      <td>✔️ [1]</td>\n",
       "    </tr>\n",
       "    <tr>\n",
       "      <th>147</th>\n",
       "      <td>Let $x_1, x_2, x_3, \\ldots$ be a sequence of rational numbers defi...</td>\n",
       "      <td>248</td>\n",
       "      <td>Given the sequence defined by: \\[ x_1 = \\frac{25}{11}, \\quad x_{k+...</td>\n",
       "      <td>1</td>\n",
       "      <td></td>\n",
       "    </tr>\n",
       "    <tr>\n",
       "      <th>148</th>\n",
       "      <td>Let $\\triangle ABC$ be a right triangle with $\\angle A = 90^\\circ$...</td>\n",
       "      <td>104</td>\n",
       "      <td>We are given a right triangle \\( \\triangle ABC \\) with \\(\\angle A ...</td>\n",
       "      <td>104</td>\n",
       "      <td>✔️ [1]</td>\n",
       "    </tr>\n",
       "    <tr>\n",
       "      <th>149</th>\n",
       "      <td>There are exactly three positive real numbers $k$ such that the fu...</td>\n",
       "      <td>240</td>\n",
       "      <td>Consider the function \\[ f(x) = \\frac{(x - 18)(x - 72)(x - 98)(x -...</td>\n",
       "      <td>188</td>\n",
       "      <td></td>\n",
       "    </tr>\n",
       "  </tbody>\n",
       "</table>\n",
       "<p>150 rows × 5 columns</p>\n",
       "</div>"
      ],
      "text/plain": [
       "                                                                   problem  \\\n",
       "0    Find the sum of all integer bases $b>9$ for which $17_b$ is a divi...   \n",
       "1    On $\\triangle ABC$ points $A, D, E$, and $B$ lie in that order on ...   \n",
       "2    The 9 members of a baseball team went to an ice-cream parlor after...   \n",
       "3    Find the number of ordered pairs $(x,y)$, where both $x$ and $y$ a...   \n",
       "4    There are $8!= 40320$ eight-digit positive integers that use each ...   \n",
       "..                                                                     ...   \n",
       "145  Let $S$ be the set of vertices of a regular $24$-gon. Find the num...   \n",
       "146  Let $A_1 A_2 A_3 \\ldots A_{11}$ be an $11$-sided non-convex simple...   \n",
       "147  Let $x_1, x_2, x_3, \\ldots$ be a sequence of rational numbers defi...   \n",
       "148  Let $\\triangle ABC$ be a right triangle with $\\angle A = 90^\\circ$...   \n",
       "149  There are exactly three positive real numbers $k$ such that the fu...   \n",
       "\n",
       "     example_answer  \\\n",
       "0                70   \n",
       "1               588   \n",
       "2                16   \n",
       "3               117   \n",
       "4               279   \n",
       "..              ...   \n",
       "145             113   \n",
       "146              19   \n",
       "147             248   \n",
       "148             104   \n",
       "149             240   \n",
       "\n",
       "                                                                 reasoning  \\\n",
       "0    First, we interpret the given expressions in base \\(b\\): - \\(17_b ...   \n",
       "1    We have triangle \\( ABC \\) with points on the sides as follows: - ...   \n",
       "2    We have 9 baseball players and 3 ice cream flavors: chocolate (C),...   \n",
       "3    We are given the equation: \\[ 12x^2 - xy - 6y^2 = 0, \\] and we nee...   \n",
       "4    We are considering 8-digit numbers formed from the digits 1 throug...   \n",
       "..                                                                     ...   \n",
       "145  We have a regular 24-gon with vertex set \\( S \\). We want to find ...   \n",
       "146  Given an 11-sided polygon \\( A_1 A_2 \\ldots A_{11} \\), with vertex...   \n",
       "147  Given the sequence defined by: \\[ x_1 = \\frac{25}{11}, \\quad x_{k+...   \n",
       "148  We are given a right triangle \\( \\triangle ABC \\) with \\(\\angle A ...   \n",
       "149  Consider the function \\[ f(x) = \\frac{(x - 18)(x - 72)(x - 98)(x -...   \n",
       "\n",
       "                     pred_answer  metric  \n",
       "0                             70  ✔️ [1]  \n",
       "1    \\(\\boxed{\\frac{7644}{13}}\\)          \n",
       "2                             16  ✔️ [1]  \n",
       "3                            117  ✔️ [1]  \n",
       "4                            279  ✔️ [1]  \n",
       "..                           ...     ...  \n",
       "145                           12          \n",
       "146                           19  ✔️ [1]  \n",
       "147                            1          \n",
       "148                          104  ✔️ [1]  \n",
       "149                          188          \n",
       "\n",
       "[150 rows x 5 columns]"
      ]
     },
     "metadata": {},
     "output_type": "display_data"
    },
    {
     "data": {
      "text/plain": [
       "EvaluationResult(score=44.0, results=<list of 150 results>)"
      ]
     },
     "execution_count": 124,
     "metadata": {},
     "output_type": "execute_result"
    }
   ],
   "source": [
    "evaluate = dspy.Evaluate(\n",
    "    devset=test_set,\n",
    "    metric=metric,\n",
    "    num_threads=32,\n",
    "    display_table=True,\n",
    "    display_progress=True\n",
    ")\n",
    "\n",
    "evaluate(program)"
   ]
  },
  {
   "cell_type": "code",
   "execution_count": 125,
   "id": "f6d65845",
   "metadata": {},
   "outputs": [],
   "source": [
    "def metric_with_feedback(example, prediction, trace=None, pred_name=None, pred_trace=None):\n",
    "    correct_answer = int(example['answer'])\n",
    "    written_solution = example.get('solution', '')\n",
    "    try:\n",
    "        llm_answer = int(prediction.answer)\n",
    "    except ValueError as e:\n",
    "        feedback_text = f\"The final answer must be a valid integer and nothing else. You responded with '{prediction.answer}', which couldn't be parsed as a python integer. Please ensure your answer is a valid integer without any additional text or formatting.\"\n",
    "        feedback_text += f\" The correct answer is '{correct_answer}'.\"\n",
    "        if written_solution:\n",
    "            feedback_text += f\" Here's the full step-by-step solution:\\n{written_solution}\\n\\nThink about what takeaways you can learn from this solution to improve your future answers and approach to similar problems and ensure your final answer is a valid integer.\"\n",
    "        return dspy.Prediction(score=0, feedback=feedback_text)\n",
    "\n",
    "    score = int(correct_answer == llm_answer)\n",
    "\n",
    "    feedback_text = \"\"\n",
    "    if score == 1:\n",
    "        feedback_text = f\"Your answer is correct. The correct answer is '{correct_answer}'.\"\n",
    "    else:\n",
    "        feedback_text = f\"Your answer is incorrect. The correct answer is '{correct_answer}'.\"\n",
    "    \n",
    "    if written_solution:\n",
    "        feedback_text += f\" Here's the full step-by-step solution:\\n{written_solution}\\n\\nThink about what takeaways you can learn from this solution to improve your future answers and approach to similar problems.\"\n",
    "\n",
    "    return dspy.Prediction(score=score, feedback=feedback_text)"
   ]
  },
  {
   "cell_type": "code",
   "execution_count": null,
   "id": "a4daed34",
   "metadata": {},
   "outputs": [
    {
     "name": "stderr",
     "output_type": "stream",
     "text": [
      "2025/09/21 18:22:10 INFO dspy.teleprompt.gepa.gepa: Running GEPA for approx 560 metric calls of the program. This amounts to 6.22 full evals on the train+val set.\n",
      "2025/09/21 18:22:10 INFO dspy.teleprompt.gepa.gepa: Using 45 examples for tracking Pareto scores. You can consider using a smaller sample of the valset to allow GEPA to explore more diverse solutions within the same budget.\n",
      "GEPA Optimization:   0%|          | 0/560 [00:00<?, ?rollouts/s]2025/09/21 18:25:58 INFO dspy.evaluate.evaluate: Average Metric: 21.0 / 45 (46.7%)\n",
      "2025/09/21 18:25:58 INFO dspy.teleprompt.gepa.gepa: Iteration 0: Base program full valset score: 0.4666666666666667\n",
      "GEPA Optimization:   8%|▊         | 45/560 [03:48<43:34,  5.08s/rollouts]2025/09/21 18:25:58 INFO dspy.teleprompt.gepa.gepa: Iteration 1: Selected program 0 score: 0.4666666666666667\n"
     ]
    },
    {
     "name": "stdout",
     "output_type": "stream",
     "text": [
      "Average Metric: 3.00 / 3 (100.0%): 100%|██████████| 3/3 [02:19<00:00, 46.51s/it]"
     ]
    },
    {
     "name": "stderr",
     "output_type": "stream",
     "text": [
      "2025/09/21 18:28:18 INFO dspy.evaluate.evaluate: Average Metric: 3.0 / 3 (100.0%)\n",
      "2025/09/21 18:28:18 INFO dspy.teleprompt.gepa.gepa: Iteration 1: All subsample scores perfect. Skipping.\n",
      "2025/09/21 18:28:18 INFO dspy.teleprompt.gepa.gepa: Iteration 1: Reflective mutation did not propose a new candidate\n",
      "GEPA Optimization:   9%|▊         | 48/560 [06:08<1:14:04,  8.68s/rollouts]2025/09/21 18:28:18 INFO dspy.teleprompt.gepa.gepa: Iteration 2: Selected program 0 score: 0.4666666666666667\n"
     ]
    },
    {
     "name": "stdout",
     "output_type": "stream",
     "text": [
      "\n",
      "Average Metric: 1.00 / 3 (33.3%): 100%|██████████| 3/3 [01:25<00:00, 28.53s/it]"
     ]
    },
    {
     "name": "stderr",
     "output_type": "stream",
     "text": [
      "2025/09/21 18:29:43 INFO dspy.evaluate.evaluate: Average Metric: 1.0 / 3 (33.3%)\n"
     ]
    },
    {
     "name": "stdout",
     "output_type": "stream",
     "text": [
      "\n"
     ]
    },
    {
     "name": "stderr",
     "output_type": "stream",
     "text": [
      "2025/09/21 18:30:55 INFO dspy.teleprompt.gepa.gepa: Iteration 2: Proposed new text for predict: Task:\n",
      "- You will be given a single math problem in a field such as geometry, combinatorics, or number theory.\n",
      "- Solve it accurately and output ONLY the final answer in the required format. Do not include any explanation unless explicitly asked.\n",
      "\n",
      "Output format:\n",
      "- By default, the answer must be a plain integer string with no extra text, symbols, LaTeX, labels, or formatting (e.g., not “\\boxed{...}”, not “Answer: ...”, not decimals unless explicitly required).\n",
      "- If the problem asks for a remainder, output the least nonnegative residue (an integer in the specified modulus range).\n",
      "- If you compute a non-integer but the problem context suggests an integer (counts, remainders, many geometry lengths in contest settings), re-check your approach for exact methods and avoid approximations.\n",
      "\n",
      "General solution guidelines:\n",
      "- Avoid numeric approximation unless the problem explicitly requests it; prefer exact algebraic, geometric, or number-theoretic reasoning.\n",
      "- Double-check that your final result matches the problem’s expected type (e.g., integer count, remainder).\n",
      "\n",
      "Domain-specific strategies and facts (from prior tasks):\n",
      "\n",
      "1) Geometry (isosceles trapezoid with angle bisectors):\n",
      "- In an isosceles trapezoid ABCD with AB ∥ CD and AD = BC, if P is the intersection of the angle bisectors of ∠A and ∠D, and Q is the intersection of the angle bisectors of ∠B and ∠C:\n",
      "  - ∠APD = ∠BQC = 90°.\n",
      "  - PQ is parallel to the bases.\n",
      "  - Extending PQ to the legs hits their midpoints; hence PQ equals midline length minus half the sum of the legs.\n",
      "  - Useful formula: PQ = (AB + CD)/2 − (AD + BC)/2. For isosceles trapezoid with equal legs this simplifies to PQ = (AB + CD − 2·AD)/2.\n",
      "  - Use perpendicularity and midpoint properties of angle bisectors in supplementary angles; avoid coordinate approximations.\n",
      "\n",
      "2) Roots of unity products:\n",
      "- For products of the form ∏ f(ω^k) over all k for a primitive p-th root of unity ω:\n",
      "  - Use resultants or cyclotomic polynomials: ∏_{k=1}^{p−1} f(ω^k) = Res(f, Φ_p).\n",
      "  - For prime p, Φ_p(x) = (x^p − 1)/(x − 1) = x^{p−1} + … + x + 1.\n",
      "  - If f(x) = x^2 − 2x + 2 has roots 1 ± i, then ∏_{k=1}^{p−1} f(ω^k) = Φ_p(1+i)·Φ_p(1−i) = |Φ_p(1+i)|^2.\n",
      "  - Evaluate via geometric series: Φ_p(z) = (z^p − 1)/(z − 1); compute (1±i)^p exactly using polar form: 1±i = √2·e^{±iπ/4} ⇒ (1±i)^{13} = 2^{13/2}·e^{±i·13π/4} = −64(1±i).\n",
      "\n",
      "3) Counting rectangles in a regular dodecagon using sides/diagonals:\n",
      "- Rectangles are determined by pairs of parallel chord directions that are perpendicular to each other.\n",
      "- Classify by slope/direction classes corresponding to chord “distances” (number of skipped vertices): for a 12-gon, directions group into three symmetric families (0°, 30°, 60°) and (15°, 45°, 75°).\n",
      "- Count rectangles in each family using combinatorial selection of parallel chord pairs; avoid double counting via inclusion-exclusion.\n",
      "- Known counts (for a regular 12-gon with rectangle sides on sides/diagonals): 162 rectangles from directions 0°, 30°, 60°, and 153 rectangles from directions 15°, 45°, 75°, totaling 315.\n",
      "\n",
      "Reliability checks before output:\n",
      "- Ensure the final value is an integer when expected.\n",
      "- For “remainder” problems, reduce modulo and ensure nonnegative.\n",
      "- For geometry, cross-check with symmetry or known identities; avoid rounding errors.\n",
      "- Output only the final integer with no additional characters.\n",
      "2025/09/21 18:31:24 INFO dspy.evaluate.evaluate: Average Metric: 3.0 / 3 (100.0%)\n",
      "2025/09/21 18:34:42 INFO dspy.evaluate.evaluate: Average Metric: 19.0 / 45 (42.2%)\n",
      "2025/09/21 18:34:42 INFO dspy.teleprompt.gepa.gepa: Iteration 2: Full valset score for new program: 0.4222222222222222\n",
      "2025/09/21 18:34:42 INFO dspy.teleprompt.gepa.gepa: Iteration 2: Full train_val score for new program: 0.4222222222222222\n",
      "2025/09/21 18:34:42 INFO dspy.teleprompt.gepa.gepa: Iteration 2: Individual valset scores for new program: [0, 1, 0, 1, 1, 0, 0, 1, 1, 0, 1, 0, 0, 0, 1, 0, 0, 0, 0, 1, 1, 0, 1, 0, 1, 0, 1, 1, 0, 0, 0, 0, 1, 1, 0, 1, 0, 1, 0, 0, 1, 0, 0, 1, 0]\n",
      "2025/09/21 18:34:42 INFO dspy.teleprompt.gepa.gepa: Iteration 2: New valset pareto front scores: [0, 1, 0, 1, 1, 1, 1, 1, 1, 0, 1, 0, 0, 0, 1, 0, 0, 1, 0, 1, 1, 1, 1, 0, 1, 0, 1, 1, 1, 0, 0, 0, 1, 1, 1, 1, 0, 1, 0, 0, 1, 0, 0, 1, 0]\n",
      "2025/09/21 18:34:42 INFO dspy.teleprompt.gepa.gepa: Iteration 2: Full valset pareto front score: 0.5555555555555556\n",
      "2025/09/21 18:34:42 INFO dspy.teleprompt.gepa.gepa: Iteration 2: Updated valset pareto front programs: [{0, 1}, {0, 1}, {0, 1}, {0, 1}, {0, 1}, {0}, {0}, {0, 1}, {0, 1}, {0, 1}, {0, 1}, {0, 1}, {0, 1}, {0, 1}, {0, 1}, {0, 1}, {0, 1}, {0}, {0, 1}, {0, 1}, {0, 1}, {0}, {0, 1}, {0, 1}, {0, 1}, {0, 1}, {0, 1}, {1}, {0}, {0, 1}, {0, 1}, {0, 1}, {1}, {0, 1}, {0}, {0, 1}, {0, 1}, {0, 1}, {0, 1}, {0, 1}, {1}, {0, 1}, {0, 1}, {1}, {0, 1}]\n",
      "2025/09/21 18:34:42 INFO dspy.teleprompt.gepa.gepa: Iteration 2: Best valset aggregate score so far: 0.4666666666666667\n",
      "2025/09/21 18:34:42 INFO dspy.teleprompt.gepa.gepa: Iteration 2: Best program as per aggregate score on train_val: 0\n",
      "2025/09/21 18:34:42 INFO dspy.teleprompt.gepa.gepa: Iteration 2: Best program as per aggregate score on valset: 0\n",
      "2025/09/21 18:34:42 INFO dspy.teleprompt.gepa.gepa: Iteration 2: Best score on valset: 0.4666666666666667\n",
      "2025/09/21 18:34:42 INFO dspy.teleprompt.gepa.gepa: Iteration 2: Best score on train_val: 0.4666666666666667\n",
      "2025/09/21 18:34:42 INFO dspy.teleprompt.gepa.gepa: Iteration 2: Linear pareto front program index: 0\n",
      "2025/09/21 18:34:42 INFO dspy.teleprompt.gepa.gepa: Iteration 2: New program candidate index: 1\n",
      "GEPA Optimization:  18%|█▊        | 99/560 [12:32<1:00:41,  7.90s/rollouts]2025/09/21 18:34:42 INFO dspy.teleprompt.gepa.gepa: Iteration 3: No merge candidates found\n",
      "2025/09/21 18:34:42 INFO dspy.teleprompt.gepa.gepa: Iteration 3: Selected program 1 score: 0.4222222222222222\n"
     ]
    },
    {
     "name": "stdout",
     "output_type": "stream",
     "text": [
      "Average Metric: 2.00 / 3 (66.7%): 100%|██████████| 3/3 [03:24<00:00, 68.23s/it] "
     ]
    },
    {
     "name": "stderr",
     "output_type": "stream",
     "text": [
      "2025/09/21 18:38:07 INFO dspy.evaluate.evaluate: Average Metric: 2.0 / 3 (66.7%)\n"
     ]
    },
    {
     "name": "stdout",
     "output_type": "stream",
     "text": [
      "\n"
     ]
    },
    {
     "name": "stderr",
     "output_type": "stream",
     "text": [
      "2025/09/21 18:42:55 INFO dspy.teleprompt.gepa.gepa: Iteration 3: Proposed new text for predict: Task:\n",
      "- You will be given a single math problem (e.g., geometry, combinatorics, number theory).\n",
      "- Solve it exactly and output ONLY the final answer in the required format. Do not include any explanation unless explicitly asked.\n",
      "\n",
      "Output format:\n",
      "- By default, output a plain integer string with no extra text, symbols, LaTeX, or labels (e.g., not “\\boxed{...}”, not “Answer: ...”).\n",
      "- If the problem asks for a remainder, output the least nonnegative residue.\n",
      "- If the problem asks for m+n for a rational m/n, reduce the fraction to lowest terms first, then output m+n.\n",
      "- Avoid decimals unless the problem explicitly requests them.\n",
      "\n",
      "General solution guidelines:\n",
      "- Prefer exact algebraic/number-theoretic/geometry arguments; avoid approximations.\n",
      "- Re-check that the final answer matches the expected type (integer, remainder, etc.).\n",
      "- If you compute a non-integer but context suggests an integer (counts, remainders, many contest geometry squares of lengths), re-examine for an exact method.\n",
      "- If intermediate work yields unexpected logs or approximations while the problem expects a rational/integer, rework using a more direct exact approach.\n",
      "\n",
      "Domain-specific strategies and facts:\n",
      "\n",
      "A) Geometry: plane sections of tangent spheres producing congruent circles\n",
      "- For spheres with radii r_i and centers O_i mutually externally tangent, O_iO_j = r_i + r_j.\n",
      "- A plane cuts each sphere in a circle of common radius x; let d_i be the (unsigned) distance from O_i to the plane. Then r_i^2 = d_i^2 + x^2.\n",
      "- If the plane intersects the spheres in circles centered at A_i in the plane, then for any i,j:\n",
      "  (r_i + r_j)^2 = |A_iA_j|^2 + (d_i − d_j)^2.\n",
      "- Use a given |A_iA_j|^2 to find (d_i − d_j)^2, then solve for x^2 exactly via r_i^2 − x^2 = d_i^2. Other in-plane distances follow from the same identity.\n",
      "\n",
      "B) Geometry: tilted cube with a horizontal water surface (AIME-style)\n",
      "- When a cube is tilted and vertices have specified heights above a horizontal plane, set up exact relations—do not approximate.\n",
      "- Robust coordinate method on a face ABCD perpendicular to the horizontal plane:\n",
      "  - Place A at (0,0,0), let B = (x_B, 0, h_B), C = (x_C, y_C, h_C) with given heights h_A, h_B, h_C, h_D.\n",
      "  - Constraints on face ABCD of a cube:\n",
      "    1) AB ⟂ AC  ⇒ (B−A)·(C−A)=0.\n",
      "    2) AC^2 = 2·AB^2 (diagonal of a square face).\n",
      "    3) The face plane ABC is vertical ⇒ the z-component of AB×AC is 0.\n",
      "  - Solve for the side length s = |AB| exactly.\n",
      "- To compute the water volume below height H (horizontal plane):\n",
      "  - Choose the three cube edges from A as parameters u,v,w ∈ [0,1]; the 3D height function is affine: h(u,v,w) = αu + βv + γw (after choosing edge directions appropriately to match vertex heights adjacent to A). In many AIME configurations this reduces to a simple inequality of the form αu + βv + γw ≤ H.\n",
      "  - Volume = s^3 · (measure of {(u,v,w) in [0,1]^3 satisfying the inequality}).\n",
      "  - The feasible region is a clipped simplex; the integral yields a rational result—no logarithms should appear. If logs appear, re-express the region piecewise and integrate polynomially.\n",
      "  - Alternatively, when cross-sections perpendicular to a cube’s space diagonal are squares that scale linearly with height offset, the dry region can be a frustum of a right square pyramid; use V = (h/3)(A1 + √(A1A2) + A2) with exactly determined square areas.\n",
      "\n",
      "C) Inclusion-exclusion/ownership counts with “everyone has one item”\n",
      "- If everyone owns one fixed item (e.g., candy hearts), reduce the 4-set problem to the 3 nontrivial items.\n",
      "- Let w,x,y,z be counts of people who own exactly 1,2,3,4 of the four items, respectively. Then:\n",
      "  - Total people: w + x + y + z = N.\n",
      "  - Sum of item ownerships: |D| + |G| + |S| + |C| = 1·w + 2·x + 3·y + 4·z.\n",
      "  - Given x and y, solve the linear system to find z (owners of all four).\n",
      "- Weighted-count equations are often the fastest route; avoid overcomplicating with full Venn diagrams.\n",
      "\n",
      "D) Roots of unity products (prime p)\n",
      "- For a primitive p-th root ω and a polynomial f, ∏_{k=1}^{p−1} f(ω^k) = Res(f, Φ_p) = ∏ f(ζ) over all roots ζ of Φ_p, hence = ∏ Φ_p(α_i) where α_i are roots of f.\n",
      "- Φ_p(x) = (x^p − 1)/(x−1) for prime p. Evaluate Φ_p at algebraic numbers exactly (e.g., 1±i), using polar form: 1±i = √2 e^{±iπ/4} ⇒ (1±i)^p computed exactly.\n",
      "- Products often simplify to perfect squares of moduli.\n",
      "\n",
      "E) Isosceles trapezoid with angle bisectors\n",
      "- In isosceles trapezoid ABCD (AB ∥ CD, AD = BC), with P the intersection of angle bisectors of ∠A and ∠D and Q the intersection of those of ∠B and ∠C:\n",
      "  - ∠APD = ∠BQC = 90°.\n",
      "  - PQ ∥ bases; extending PQ to legs hits their midpoints.\n",
      "  - PQ = (AB + CD)/2 − (AD + BC)/2. For equal legs, PQ = (AB + CD − 2·AD)/2.\n",
      "\n",
      "F) Counting rectangles in a regular dodecagon (sides/diagonals)\n",
      "- Classify by chord directions; count rectangles formed by pairs of perpendicular direction classes.\n",
      "- Known total for regular 12-gon (using sides/diagonals): 315 rectangles.\n",
      "\n",
      "Reliability checks before finalizing:\n",
      "- Confirm the answer matches the requested form (integer, remainder, m+n).\n",
      "- For m+n: reduce fractions to lowest terms before summing.\n",
      "- For “square” quantities in geometry (e.g., AC^2), provide the exact integer if expected.\n",
      "- Output only the final number with no extra characters or formatting.\n",
      "2025/09/21 18:44:59 INFO dspy.evaluate.evaluate: Average Metric: 2.0 / 3 (66.7%)\n",
      "2025/09/21 18:44:59 INFO dspy.teleprompt.gepa.gepa: Iteration 3: New subsample score is not better, skipping\n",
      "GEPA Optimization:  19%|█▉        | 105/560 [22:48<2:13:36, 17.62s/rollouts]2025/09/21 18:44:59 INFO dspy.teleprompt.gepa.gepa: Iteration 4: Selected program 0 score: 0.4666666666666667\n"
     ]
    },
    {
     "name": "stdout",
     "output_type": "stream",
     "text": [
      "Average Metric: 1.00 / 3 (33.3%): 100%|██████████| 3/3 [00:33<00:00, 11.04s/it]"
     ]
    },
    {
     "name": "stderr",
     "output_type": "stream",
     "text": [
      "2025/09/21 18:45:32 INFO dspy.evaluate.evaluate: Average Metric: 1.0 / 3 (33.3%)\n"
     ]
    },
    {
     "name": "stdout",
     "output_type": "stream",
     "text": [
      "\n"
     ]
    },
    {
     "name": "stderr",
     "output_type": "stream",
     "text": [
      "2025/09/21 18:46:03 INFO dspy.teleprompt.gepa.gepa: Iteration 4: Proposed new text for predict: You are given a single “problem” (typically a math contest-style question). Your task is to solve it correctly and output two sections:\n",
      "\n",
      "- reasoning: A clear, compact derivation showing the key steps and justifications (avoid fluff).\n",
      "- answer: The final result only (as required by the problem), with no extra text.\n",
      "\n",
      "General requirements\n",
      "- Interpret the question precisely. If it asks for a derived quantity (e.g., m+n or p+q after reducing a fraction), ensure you reduce to lowest terms and compute the requested combination at the end.\n",
      "- Keep algebraic manipulations exact; avoid decimal approximations that can introduce errors. Cross-check cancellations and factorization.\n",
      "- If the problem involves maximality/minimality over a set of objects and asks for the “smallest X that can contain each of them,” interpret this as choosing X large enough for the worst-case instance in the set (e.g., maximize the relevant dimension across all admissible objects).\n",
      "- Use symmetry and structure to reduce variables (e.g., expect optimal solutions with some variables equal) and justify that reduction (e.g., by symmetry, convexity, or Lagrange multipliers).\n",
      "- When counting with indistinguishable objects, reduce to structural choices (e.g., subsets) rather than overcounting labeled placements.\n",
      "\n",
      "Domain-specific strategies distilled from prior problems\n",
      "\n",
      "A) Rectangular boxes with fixed surface area and volume; enclosing sphere\n",
      "- Let the side lengths be x, y, z > 0.\n",
      "- Surface area: 2(xy + yz + zx) = S ⇒ S2 = xy + yz + zx is fixed.\n",
      "- Volume: xyz = V is fixed (S3 = V).\n",
      "- The space diagonal is d = sqrt(x^2 + y^2 + z^2) = sqrt((x + y + z)^2 − 2(xy + yz + zx)) = sqrt(S1^2 − 2S2), where S1 = x + y + z.\n",
      "- A sphere that contains the box must have radius r ≥ d/2; to contain every such box, choose r based on the maximum possible d over all feasible (x, y, z).\n",
      "- Thus maximize S1 subject to S2 and S3 fixed. A standard approach:\n",
      "  - By symmetry/optimality, an extremum occurs with two equal sides: set x = y = a, z = b.\n",
      "  - Use constraints: a^2 + 2ab = S2 and a^2 b = S3. Substitute b = S3/a^2 into the first to get a cubic in a.\n",
      "  - Solve the cubic (use Rational Root Theorem), identify the positive feasible root giving the maximum S1 = 2a + b, then compute r^2 = (S1^2 − 2S2)/4.\n",
      "  - When the problem asks for p + q with r^2 = p/q in lowest terms, reduce fully before summing.\n",
      "\n",
      "B) Maximal placements of indistinguishable chips on an n×n grid with row/column uniform colors\n",
      "- Constraints: each cell has at most one chip; all chips in the same row (resp. column) share the same color; maximality means adding any chip would violate a constraint.\n",
      "- Structure:\n",
      "  - If both colors appear: for, say, white, let it occupy a nonempty proper subset of rows R and a nonempty proper subset of columns C. Then all cells in R × C must be white (maximality fills all allowed intersections), all cells with exactly one coordinate in R∪C must be empty (to preserve row/column uniformity), and the complement rows/columns form the black rectangle which is fully filled by maximality.\n",
      "  - Counting: Choose nonempty proper subsets of rows and columns for white: (2^n − 2)^2 configurations. Add the two monochromatic full boards (all white or all black) for a total of (2^n − 2)^2 + 2. For n = 5, the answer is 902.\n",
      "  - The supply of chips (when at least n^2 chips are available across colors) is not binding because maximality dictates the fill pattern.\n",
      "\n",
      "C) Even separation for pairs in a line (two of each of k colors)\n",
      "- An arrangement is “even” if between the two identical blocks of each color there are an even number of blocks. Equivalently, the positions of the two blocks of each color differ by an odd number, i.e., one is on an odd position and the other on an even position.\n",
      "- Thus favorable arrangements correspond to placing exactly one block of each color in the odd positions and the other copy in the even positions:\n",
      "  - Number of favorable arrangements: (k!) × (k!) (permute the k colors on the k odd spots, and independently on the k even spots).\n",
      "  - Total distinct arrangements with identical pairs: (2k)! / (2!)^k.\n",
      "  - Probability: [(k!)^2 (2!)^k] / (2k)!; reduce exactly. For k = 6, this simplifies to 16/231, hence m + n = 247.\n",
      "\n",
      "Output format\n",
      "- Provide:\n",
      "  - reasoning: concise, logically ordered derivation using the most direct valid method. Show key substitutions, reductions, and justifications (e.g., why two sides can be set equal; why maximality forces filling all allowed intersections).\n",
      "  - answer: only the final required value (e.g., an integer like 902, or m+n like 247), nothing else.\n",
      "\n",
      "Quality checks before finalizing\n",
      "- Verify fraction reductions (e.g., compute gcd and cancel).\n",
      "- If the result depends on an extremum, confirm it’s the correct extremum (maximum vs minimum) and feasible under constraints.\n",
      "- For combinatorics, ensure maximality/minimality conditions are satisfied (e.g., no additional chip can be added).\n",
      "- If the problem asks for a specific expression of the result (like p+q from a reduced fraction), ensure you deliver exactly that.\n",
      "2025/09/21 18:46:21 INFO dspy.evaluate.evaluate: Average Metric: 3.0 / 3 (100.0%)\n"
     ]
    }
   ],
   "source": [
    "from dspy import GEPA\n",
    "\n",
    "optimizer = GEPA(\n",
    "    metric=metric_with_feedback,\n",
    "    auto=\"light\",\n",
    "    num_threads=32,\n",
    "    track_stats=True,\n",
    "    reflection_minibatch_size=3,\n",
    "    reflection_lm=dspy.LM(model=\"gpt-5\", temperature=1.0, max_tokens=32000, api_key=openai_api_key)\n",
    ")\n",
    "\n",
    "optimized_program = optimizer.compile(\n",
    "    program,\n",
    "    trainset=train_set,\n",
    "    valset=val_set,\n",
    ")"
   ]
  },
  {
   "cell_type": "code",
   "execution_count": null,
   "id": "a8dd42dd",
   "metadata": {},
   "outputs": [],
   "source": [
    "print(optimized_program.predict.signature.instructions)"
   ]
  },
  {
   "cell_type": "code",
   "execution_count": null,
   "id": "cb619982",
   "metadata": {},
   "outputs": [],
   "source": [
    "evaluate(optimized_program)"
   ]
  },
  {
   "cell_type": "markdown",
   "id": "9dcf81d3",
   "metadata": {},
   "source": [
    "While people often manually go through this trial-and-error process, the performance improvement from simply giving more context demonstrates the importance of fully investigating the limits of the prompt and context you provide your model. "
   ]
  },
  {
   "cell_type": "markdown",
   "id": "2385bc05",
   "metadata": {},
   "source": []
  }
 ],
 "metadata": {
  "kernelspec": {
   "display_name": "cs224n-cpu",
   "language": "python",
   "name": "python3"
  },
  "language_info": {
   "codemirror_mode": {
    "name": "ipython",
    "version": 3
   },
   "file_extension": ".py",
   "mimetype": "text/x-python",
   "name": "python",
   "nbconvert_exporter": "python",
   "pygments_lexer": "ipython3",
   "version": "3.10.18"
  }
 },
 "nbformat": 4,
 "nbformat_minor": 5
}
